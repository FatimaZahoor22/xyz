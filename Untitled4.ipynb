{
 "cells": [
  {
   "cell_type": "code",
   "execution_count": 1,
   "id": "535233a5-7a8e-4f2c-b488-2b12b1181c56",
   "metadata": {},
   "outputs": [
    {
     "name": "stdout",
     "output_type": "stream",
     "text": [
      "('xyz', 'abc', 'cde')\n"
     ]
    }
   ],
   "source": [
    "a=('xyz','abc','cde');\n",
    "print(a);"
   ]
  },
  {
   "cell_type": "code",
   "execution_count": 2,
   "id": "1da6946d-b5c9-4cbf-a3ea-8174285b6dfb",
   "metadata": {},
   "outputs": [
    {
     "ename": "SyntaxError",
     "evalue": "cannot assign to literal (2454863148.py, line 1)",
     "output_type": "error",
     "traceback": [
      "  \u001b[36mCell\u001b[39m\u001b[36m \u001b[39m\u001b[32mIn[2]\u001b[39m\u001b[32m, line 1\u001b[39m\n\u001b[31m    \u001b[39m\u001b[31ma=(1)=2;\u001b[39m\n       ^\n\u001b[31mSyntaxError\u001b[39m\u001b[31m:\u001b[39m cannot assign to literal\n"
     ]
    }
   ],
   "source": [
    "a=(1)=2;"
   ]
  },
  {
   "cell_type": "code",
   "execution_count": 3,
   "id": "0f8b7cf5-2e22-44f6-b9f4-cd54b5182fb0",
   "metadata": {},
   "outputs": [
    {
     "name": "stdout",
     "output_type": "stream",
     "text": [
      "['xyz', 'abc', 'cde']\n"
     ]
    }
   ],
   "source": [
    "a=['xyz','abc','cde'];\n",
    "print(a);"
   ]
  },
  {
   "cell_type": "code",
   "execution_count": 4,
   "id": "86a11088-6355-49f4-b417-5ac5317e6274",
   "metadata": {},
   "outputs": [],
   "source": [
    "a[1]=5;"
   ]
  },
  {
   "cell_type": "code",
   "execution_count": null,
   "id": "a47f7afb-ef33-477b-8d21-dffb10400c2b",
   "metadata": {},
   "outputs": [],
   "source": []
  }
 ],
 "metadata": {
  "kernelspec": {
   "display_name": "Python 3 (ipykernel)",
   "language": "python",
   "name": "python3"
  },
  "language_info": {
   "codemirror_mode": {
    "name": "ipython",
    "version": 3
   },
   "file_extension": ".py",
   "mimetype": "text/x-python",
   "name": "python",
   "nbconvert_exporter": "python",
   "pygments_lexer": "ipython3",
   "version": "3.13.3"
  }
 },
 "nbformat": 4,
 "nbformat_minor": 5
}
